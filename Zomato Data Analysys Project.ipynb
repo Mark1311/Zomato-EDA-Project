{
 "cells": [
  {
   "cell_type": "markdown",
   "id": "d044c258-a019-4f29-b870-20022c53b5bb",
   "metadata": {},
   "source": [
    "# EDA (Exploratory Data Analysis)"
   ]
  },
  {
   "cell_type": "code",
   "execution_count": 1,
   "id": "3e5f3f04-d396-4506-850d-ab79a93ef04c",
   "metadata": {},
   "outputs": [],
   "source": [
    "#Import Libraries\n",
    "\n",
    "import numpy as np\n",
    "\n",
    "import pandas as pd\n",
    "\n",
    "import seaborn as sns\n",
    "\n",
    "import matplotlib\n",
    "import matplotlib.pyplot as plt"
   ]
  },
  {
   "cell_type": "markdown",
   "id": "304d30f1-e6f0-49b3-8ada-e5869c57c5c9",
   "metadata": {},
   "source": [
    "## Check Libraries Version"
   ]
  },
  {
   "cell_type": "code",
   "execution_count": 2,
   "id": "b651ab65-f9ac-4bce-ab40-80cbf78b46c5",
   "metadata": {},
   "outputs": [
    {
     "data": {
      "text/plain": [
       "'1.26.2'"
      ]
     },
     "execution_count": 2,
     "metadata": {},
     "output_type": "execute_result"
    }
   ],
   "source": [
    "#Numpy Library Version\n",
    "\n",
    "np.__version__"
   ]
  },
  {
   "cell_type": "code",
   "execution_count": 3,
   "id": "3dcbda91-c023-4615-ae87-4a9c96d61a99",
   "metadata": {},
   "outputs": [
    {
     "data": {
      "text/plain": [
       "'2.1.3'"
      ]
     },
     "execution_count": 3,
     "metadata": {},
     "output_type": "execute_result"
    }
   ],
   "source": [
    "#Pandas Library Version\n",
    "\n",
    "pd.__version__"
   ]
  },
  {
   "cell_type": "code",
   "execution_count": 4,
   "id": "f731af0b-ec36-4a2e-8ea4-c0f868082ded",
   "metadata": {},
   "outputs": [
    {
     "data": {
      "text/plain": [
       "'0.13.0'"
      ]
     },
     "execution_count": 4,
     "metadata": {},
     "output_type": "execute_result"
    }
   ],
   "source": [
    "#Seaborn Library Version\n",
    "\n",
    "sns.__version__"
   ]
  },
  {
   "cell_type": "code",
   "execution_count": 5,
   "id": "d110b3fd-6629-4668-a9de-63cf270d6057",
   "metadata": {},
   "outputs": [
    {
     "data": {
      "text/plain": [
       "'3.8.2'"
      ]
     },
     "execution_count": 5,
     "metadata": {},
     "output_type": "execute_result"
    }
   ],
   "source": [
    "#Matplotlib Library Version\n",
    "\n",
    "matplotlib.__version__"
   ]
  },
  {
   "cell_type": "markdown",
   "id": "04ddd97d-e585-4f2f-86d5-aae12ad95667",
   "metadata": {},
   "source": [
    "## Read DataSet Files"
   ]
  },
  {
   "cell_type": "code",
   "execution_count": 6,
   "id": "4675a175-fa2a-4fa9-a597-f176a80a99f5",
   "metadata": {},
   "outputs": [],
   "source": [
    "#File ==> Zomato.csv\n",
    "df_zomato = pd.read_csv('zomato.csv', encoding = 'latin1')\n",
    "\n",
    "#File ==> Country-Code.xlsx\n",
    "df_country_code = pd.read_excel('Country-Code.xlsx')"
   ]
  },
  {
   "cell_type": "markdown",
   "id": "c69d46f1-5b08-4c1d-a20e-5c175d533357",
   "metadata": {},
   "source": [
    "## Show Data"
   ]
  },
  {
   "cell_type": "code",
   "execution_count": 7,
   "id": "e71aa335-4211-484c-9c81-78e85509b2f3",
   "metadata": {},
   "outputs": [
    {
     "data": {
      "text/html": [
       "<div>\n",
       "<style scoped>\n",
       "    .dataframe tbody tr th:only-of-type {\n",
       "        vertical-align: middle;\n",
       "    }\n",
       "\n",
       "    .dataframe tbody tr th {\n",
       "        vertical-align: top;\n",
       "    }\n",
       "\n",
       "    .dataframe thead th {\n",
       "        text-align: right;\n",
       "    }\n",
       "</style>\n",
       "<table border=\"1\" class=\"dataframe\">\n",
       "  <thead>\n",
       "    <tr style=\"text-align: right;\">\n",
       "      <th></th>\n",
       "      <th>Restaurant ID</th>\n",
       "      <th>Restaurant Name</th>\n",
       "      <th>Country Code</th>\n",
       "      <th>City</th>\n",
       "      <th>Address</th>\n",
       "      <th>Locality</th>\n",
       "      <th>Locality Verbose</th>\n",
       "      <th>Longitude</th>\n",
       "      <th>Latitude</th>\n",
       "      <th>Cuisines</th>\n",
       "      <th>...</th>\n",
       "      <th>Currency</th>\n",
       "      <th>Has Table booking</th>\n",
       "      <th>Has Online delivery</th>\n",
       "      <th>Is delivering now</th>\n",
       "      <th>Switch to order menu</th>\n",
       "      <th>Price range</th>\n",
       "      <th>Aggregate rating</th>\n",
       "      <th>Rating color</th>\n",
       "      <th>Rating text</th>\n",
       "      <th>Votes</th>\n",
       "    </tr>\n",
       "  </thead>\n",
       "  <tbody>\n",
       "    <tr>\n",
       "      <th>0</th>\n",
       "      <td>6317637</td>\n",
       "      <td>Le Petit Souffle</td>\n",
       "      <td>162</td>\n",
       "      <td>Makati City</td>\n",
       "      <td>Third Floor, Century City Mall, Kalayaan Avenu...</td>\n",
       "      <td>Century City Mall, Poblacion, Makati City</td>\n",
       "      <td>Century City Mall, Poblacion, Makati City, Mak...</td>\n",
       "      <td>121.027535</td>\n",
       "      <td>14.565443</td>\n",
       "      <td>French, Japanese, Desserts</td>\n",
       "      <td>...</td>\n",
       "      <td>Botswana Pula(P)</td>\n",
       "      <td>Yes</td>\n",
       "      <td>No</td>\n",
       "      <td>No</td>\n",
       "      <td>No</td>\n",
       "      <td>3</td>\n",
       "      <td>4.8</td>\n",
       "      <td>Dark Green</td>\n",
       "      <td>Excellent</td>\n",
       "      <td>314</td>\n",
       "    </tr>\n",
       "    <tr>\n",
       "      <th>1</th>\n",
       "      <td>6304287</td>\n",
       "      <td>Izakaya Kikufuji</td>\n",
       "      <td>162</td>\n",
       "      <td>Makati City</td>\n",
       "      <td>Little Tokyo, 2277 Chino Roces Avenue, Legaspi...</td>\n",
       "      <td>Little Tokyo, Legaspi Village, Makati City</td>\n",
       "      <td>Little Tokyo, Legaspi Village, Makati City, Ma...</td>\n",
       "      <td>121.014101</td>\n",
       "      <td>14.553708</td>\n",
       "      <td>Japanese</td>\n",
       "      <td>...</td>\n",
       "      <td>Botswana Pula(P)</td>\n",
       "      <td>Yes</td>\n",
       "      <td>No</td>\n",
       "      <td>No</td>\n",
       "      <td>No</td>\n",
       "      <td>3</td>\n",
       "      <td>4.5</td>\n",
       "      <td>Dark Green</td>\n",
       "      <td>Excellent</td>\n",
       "      <td>591</td>\n",
       "    </tr>\n",
       "    <tr>\n",
       "      <th>2</th>\n",
       "      <td>6300002</td>\n",
       "      <td>Heat - Edsa Shangri-La</td>\n",
       "      <td>162</td>\n",
       "      <td>Mandaluyong City</td>\n",
       "      <td>Edsa Shangri-La, 1 Garden Way, Ortigas, Mandal...</td>\n",
       "      <td>Edsa Shangri-La, Ortigas, Mandaluyong City</td>\n",
       "      <td>Edsa Shangri-La, Ortigas, Mandaluyong City, Ma...</td>\n",
       "      <td>121.056831</td>\n",
       "      <td>14.581404</td>\n",
       "      <td>Seafood, Asian, Filipino, Indian</td>\n",
       "      <td>...</td>\n",
       "      <td>Botswana Pula(P)</td>\n",
       "      <td>Yes</td>\n",
       "      <td>No</td>\n",
       "      <td>No</td>\n",
       "      <td>No</td>\n",
       "      <td>4</td>\n",
       "      <td>4.4</td>\n",
       "      <td>Green</td>\n",
       "      <td>Very Good</td>\n",
       "      <td>270</td>\n",
       "    </tr>\n",
       "  </tbody>\n",
       "</table>\n",
       "<p>3 rows × 21 columns</p>\n",
       "</div>"
      ],
      "text/plain": [
       "   Restaurant ID         Restaurant Name  Country Code              City  \\\n",
       "0        6317637        Le Petit Souffle           162       Makati City   \n",
       "1        6304287        Izakaya Kikufuji           162       Makati City   \n",
       "2        6300002  Heat - Edsa Shangri-La           162  Mandaluyong City   \n",
       "\n",
       "                                             Address  \\\n",
       "0  Third Floor, Century City Mall, Kalayaan Avenu...   \n",
       "1  Little Tokyo, 2277 Chino Roces Avenue, Legaspi...   \n",
       "2  Edsa Shangri-La, 1 Garden Way, Ortigas, Mandal...   \n",
       "\n",
       "                                     Locality  \\\n",
       "0   Century City Mall, Poblacion, Makati City   \n",
       "1  Little Tokyo, Legaspi Village, Makati City   \n",
       "2  Edsa Shangri-La, Ortigas, Mandaluyong City   \n",
       "\n",
       "                                    Locality Verbose   Longitude   Latitude  \\\n",
       "0  Century City Mall, Poblacion, Makati City, Mak...  121.027535  14.565443   \n",
       "1  Little Tokyo, Legaspi Village, Makati City, Ma...  121.014101  14.553708   \n",
       "2  Edsa Shangri-La, Ortigas, Mandaluyong City, Ma...  121.056831  14.581404   \n",
       "\n",
       "                           Cuisines  ...          Currency Has Table booking  \\\n",
       "0        French, Japanese, Desserts  ...  Botswana Pula(P)               Yes   \n",
       "1                          Japanese  ...  Botswana Pula(P)               Yes   \n",
       "2  Seafood, Asian, Filipino, Indian  ...  Botswana Pula(P)               Yes   \n",
       "\n",
       "  Has Online delivery Is delivering now Switch to order menu Price range  \\\n",
       "0                  No                No                   No           3   \n",
       "1                  No                No                   No           3   \n",
       "2                  No                No                   No           4   \n",
       "\n",
       "   Aggregate rating  Rating color Rating text Votes  \n",
       "0               4.8    Dark Green   Excellent   314  \n",
       "1               4.5    Dark Green   Excellent   591  \n",
       "2               4.4         Green   Very Good   270  \n",
       "\n",
       "[3 rows x 21 columns]"
      ]
     },
     "execution_count": 7,
     "metadata": {},
     "output_type": "execute_result"
    }
   ],
   "source": [
    "# n = 3\n",
    "df_zomato.head(3)\n",
    "\n",
    "# Where n = Number of Starting Rows"
   ]
  },
  {
   "cell_type": "markdown",
   "id": "b5af897a-95bd-4652-b6eb-e19de0429d22",
   "metadata": {},
   "source": [
    "## Show Total Columns"
   ]
  },
  {
   "cell_type": "code",
   "execution_count": 8,
   "id": "9c519c44-5809-49a0-9335-9053a44264a1",
   "metadata": {},
   "outputs": [
    {
     "data": {
      "text/plain": [
       "Index(['Restaurant ID', 'Restaurant Name', 'Country Code', 'City', 'Address',\n",
       "       'Locality', 'Locality Verbose', 'Longitude', 'Latitude', 'Cuisines',\n",
       "       'Average Cost for two', 'Currency', 'Has Table booking',\n",
       "       'Has Online delivery', 'Is delivering now', 'Switch to order menu',\n",
       "       'Price range', 'Aggregate rating', 'Rating color', 'Rating text',\n",
       "       'Votes'],\n",
       "      dtype='object')"
      ]
     },
     "execution_count": 8,
     "metadata": {},
     "output_type": "execute_result"
    }
   ],
   "source": [
    "df_zomato.columns"
   ]
  },
  {
   "cell_type": "markdown",
   "id": "8f446a5a-b4e7-4d95-a4e1-32cf5348dd85",
   "metadata": {},
   "source": [
    "## Shape/Size of DataSet"
   ]
  },
  {
   "cell_type": "code",
   "execution_count": 9,
   "id": "0c759ec7-78f8-4d72-9184-36a0becfaca1",
   "metadata": {},
   "outputs": [
    {
     "data": {
      "text/plain": [
       "(9551, 21)"
      ]
     },
     "execution_count": 9,
     "metadata": {},
     "output_type": "execute_result"
    }
   ],
   "source": [
    "df_zomato.shape"
   ]
  },
  {
   "cell_type": "markdown",
   "id": "d8f97825-9c0c-4336-b9f8-70db41e514c5",
   "metadata": {},
   "source": [
    "## Total Infomation About DataSet"
   ]
  },
  {
   "cell_type": "code",
   "execution_count": 10,
   "id": "12ae0344-2b5f-41a1-9c49-8b82f15feba4",
   "metadata": {},
   "outputs": [
    {
     "name": "stdout",
     "output_type": "stream",
     "text": [
      "<class 'pandas.core.frame.DataFrame'>\n",
      "RangeIndex: 9551 entries, 0 to 9550\n",
      "Data columns (total 21 columns):\n",
      " #   Column                Non-Null Count  Dtype  \n",
      "---  ------                --------------  -----  \n",
      " 0   Restaurant ID         9551 non-null   int64  \n",
      " 1   Restaurant Name       9551 non-null   object \n",
      " 2   Country Code          9551 non-null   int64  \n",
      " 3   City                  9551 non-null   object \n",
      " 4   Address               9551 non-null   object \n",
      " 5   Locality              9551 non-null   object \n",
      " 6   Locality Verbose      9551 non-null   object \n",
      " 7   Longitude             9551 non-null   float64\n",
      " 8   Latitude              9551 non-null   float64\n",
      " 9   Cuisines              9542 non-null   object \n",
      " 10  Average Cost for two  9551 non-null   int64  \n",
      " 11  Currency              9551 non-null   object \n",
      " 12  Has Table booking     9551 non-null   object \n",
      " 13  Has Online delivery   9551 non-null   object \n",
      " 14  Is delivering now     9551 non-null   object \n",
      " 15  Switch to order menu  9551 non-null   object \n",
      " 16  Price range           9551 non-null   int64  \n",
      " 17  Aggregate rating      9551 non-null   float64\n",
      " 18  Rating color          9551 non-null   object \n",
      " 19  Rating text           9551 non-null   object \n",
      " 20  Votes                 9551 non-null   int64  \n",
      "dtypes: float64(3), int64(5), object(13)\n",
      "memory usage: 1.5+ MB\n"
     ]
    }
   ],
   "source": [
    "df_zomato.info()"
   ]
  },
  {
   "cell_type": "markdown",
   "id": "a572ed3a-0607-48a2-b083-20e4e62cba8d",
   "metadata": {},
   "source": [
    "## Memory Used by DataSet in Bit"
   ]
  },
  {
   "cell_type": "code",
   "execution_count": 11,
   "id": "c7ac5a9b-8a6c-496a-9c91-d3f7c481eaf8",
   "metadata": {},
   "outputs": [
    {
     "data": {
      "text/plain": [
       "Index                       132\n",
       "Restaurant ID             76408\n",
       "Restaurant Name          691807\n",
       "Country Code              76408\n",
       "City                     623626\n",
       "Address                 1057921\n",
       "Locality                 679199\n",
       "Locality Verbose         776936\n",
       "Longitude                 76408\n",
       "Latitude                  76408\n",
       "Cuisines                 734354\n",
       "Average Cost for two      76408\n",
       "Currency                 712379\n",
       "Has Table booking        564667\n",
       "Has Online delivery      565960\n",
       "Is delivering now        563543\n",
       "Switch to order menu     563509\n",
       "Price range               76408\n",
       "Aggregate rating          76408\n",
       "Rating color             599132\n",
       "Rating text              611462\n",
       "Votes                     76408\n",
       "dtype: int64"
      ]
     },
     "execution_count": 11,
     "metadata": {},
     "output_type": "execute_result"
    }
   ],
   "source": [
    "df_zomato.memory_usage(deep = True)"
   ]
  },
  {
   "cell_type": "markdown",
   "id": "652e5366-8c56-421a-8797-33ba9621ede6",
   "metadata": {},
   "source": [
    "## Show Columns"
   ]
  },
  {
   "cell_type": "code",
   "execution_count": 12,
   "id": "da87b74d-3b52-4a7e-8271-b100a4b98c4a",
   "metadata": {},
   "outputs": [
    {
     "data": {
      "text/plain": [
       "Index(['Restaurant ID', 'Restaurant Name', 'Country Code', 'City', 'Address',\n",
       "       'Locality', 'Locality Verbose', 'Longitude', 'Latitude', 'Cuisines',\n",
       "       'Average Cost for two', 'Currency', 'Has Table booking',\n",
       "       'Has Online delivery', 'Is delivering now', 'Switch to order menu',\n",
       "       'Price range', 'Aggregate rating', 'Rating color', 'Rating text',\n",
       "       'Votes'],\n",
       "      dtype='object')"
      ]
     },
     "execution_count": 12,
     "metadata": {},
     "output_type": "execute_result"
    }
   ],
   "source": [
    "df_zomato.columns"
   ]
  },
  {
   "cell_type": "markdown",
   "id": "9fafe83a-edce-42f6-a11e-b35da413789e",
   "metadata": {},
   "source": [
    "## Drop Unnecessary Columns From DataSet"
   ]
  },
  {
   "cell_type": "code",
   "execution_count": 13,
   "id": "d1c2b5f8-8fef-4381-9527-624195e2620d",
   "metadata": {},
   "outputs": [],
   "source": [
    "df_zomato.drop(['Restaurant ID','Longitude','Latitude','Locality Verbose','Address'], axis = 1,inplace = True)"
   ]
  },
  {
   "cell_type": "markdown",
   "id": "17a1ab6e-95ad-4713-9d4a-6c1719c2e793",
   "metadata": {},
   "source": [
    "## Check Shape/Size of DataSet After Drop Unnecessary Columns"
   ]
  },
  {
   "cell_type": "code",
   "execution_count": 14,
   "id": "01fbd617-0942-4e82-a03e-762ff1a62d78",
   "metadata": {},
   "outputs": [
    {
     "data": {
      "text/plain": [
       "(9551, 16)"
      ]
     },
     "execution_count": 14,
     "metadata": {},
     "output_type": "execute_result"
    }
   ],
   "source": [
    "df_zomato.shape"
   ]
  },
  {
   "cell_type": "markdown",
   "id": "6157ec7c-43b6-4a26-81b0-93225854488c",
   "metadata": {},
   "source": [
    "## Check Columns After Drop Columns"
   ]
  },
  {
   "cell_type": "code",
   "execution_count": 15,
   "id": "2b23374a-54a6-486d-9163-46f66f49db1f",
   "metadata": {},
   "outputs": [
    {
     "data": {
      "text/plain": [
       "Index(['Restaurant Name', 'Country Code', 'City', 'Locality', 'Cuisines',\n",
       "       'Average Cost for two', 'Currency', 'Has Table booking',\n",
       "       'Has Online delivery', 'Is delivering now', 'Switch to order menu',\n",
       "       'Price range', 'Aggregate rating', 'Rating color', 'Rating text',\n",
       "       'Votes'],\n",
       "      dtype='object')"
      ]
     },
     "execution_count": 15,
     "metadata": {},
     "output_type": "execute_result"
    }
   ],
   "source": [
    "df_zomato.columns"
   ]
  },
  {
   "cell_type": "markdown",
   "id": "d970318b-ab14-49ed-94ac-b978e255df16",
   "metadata": {},
   "source": [
    "## Your DataSet Discription"
   ]
  },
  {
   "cell_type": "code",
   "execution_count": 16,
   "id": "08c15010-a9ea-4398-a707-80ad1a4e422f",
   "metadata": {},
   "outputs": [
    {
     "data": {
      "text/html": [
       "<div>\n",
       "<style scoped>\n",
       "    .dataframe tbody tr th:only-of-type {\n",
       "        vertical-align: middle;\n",
       "    }\n",
       "\n",
       "    .dataframe tbody tr th {\n",
       "        vertical-align: top;\n",
       "    }\n",
       "\n",
       "    .dataframe thead th {\n",
       "        text-align: right;\n",
       "    }\n",
       "</style>\n",
       "<table border=\"1\" class=\"dataframe\">\n",
       "  <thead>\n",
       "    <tr style=\"text-align: right;\">\n",
       "      <th></th>\n",
       "      <th>Country Code</th>\n",
       "      <th>Average Cost for two</th>\n",
       "      <th>Price range</th>\n",
       "      <th>Aggregate rating</th>\n",
       "      <th>Votes</th>\n",
       "    </tr>\n",
       "  </thead>\n",
       "  <tbody>\n",
       "    <tr>\n",
       "      <th>count</th>\n",
       "      <td>9551.000000</td>\n",
       "      <td>9551.000000</td>\n",
       "      <td>9551.000000</td>\n",
       "      <td>9551.000000</td>\n",
       "      <td>9551.000000</td>\n",
       "    </tr>\n",
       "    <tr>\n",
       "      <th>mean</th>\n",
       "      <td>18.365616</td>\n",
       "      <td>1199.210763</td>\n",
       "      <td>1.804837</td>\n",
       "      <td>2.666370</td>\n",
       "      <td>156.909748</td>\n",
       "    </tr>\n",
       "    <tr>\n",
       "      <th>std</th>\n",
       "      <td>56.750546</td>\n",
       "      <td>16121.183073</td>\n",
       "      <td>0.905609</td>\n",
       "      <td>1.516378</td>\n",
       "      <td>430.169145</td>\n",
       "    </tr>\n",
       "    <tr>\n",
       "      <th>min</th>\n",
       "      <td>1.000000</td>\n",
       "      <td>0.000000</td>\n",
       "      <td>1.000000</td>\n",
       "      <td>0.000000</td>\n",
       "      <td>0.000000</td>\n",
       "    </tr>\n",
       "    <tr>\n",
       "      <th>25%</th>\n",
       "      <td>1.000000</td>\n",
       "      <td>250.000000</td>\n",
       "      <td>1.000000</td>\n",
       "      <td>2.500000</td>\n",
       "      <td>5.000000</td>\n",
       "    </tr>\n",
       "    <tr>\n",
       "      <th>50%</th>\n",
       "      <td>1.000000</td>\n",
       "      <td>400.000000</td>\n",
       "      <td>2.000000</td>\n",
       "      <td>3.200000</td>\n",
       "      <td>31.000000</td>\n",
       "    </tr>\n",
       "    <tr>\n",
       "      <th>75%</th>\n",
       "      <td>1.000000</td>\n",
       "      <td>700.000000</td>\n",
       "      <td>2.000000</td>\n",
       "      <td>3.700000</td>\n",
       "      <td>131.000000</td>\n",
       "    </tr>\n",
       "    <tr>\n",
       "      <th>max</th>\n",
       "      <td>216.000000</td>\n",
       "      <td>800000.000000</td>\n",
       "      <td>4.000000</td>\n",
       "      <td>4.900000</td>\n",
       "      <td>10934.000000</td>\n",
       "    </tr>\n",
       "  </tbody>\n",
       "</table>\n",
       "</div>"
      ],
      "text/plain": [
       "       Country Code  Average Cost for two  Price range  Aggregate rating  \\\n",
       "count   9551.000000           9551.000000  9551.000000       9551.000000   \n",
       "mean      18.365616           1199.210763     1.804837          2.666370   \n",
       "std       56.750546          16121.183073     0.905609          1.516378   \n",
       "min        1.000000              0.000000     1.000000          0.000000   \n",
       "25%        1.000000            250.000000     1.000000          2.500000   \n",
       "50%        1.000000            400.000000     2.000000          3.200000   \n",
       "75%        1.000000            700.000000     2.000000          3.700000   \n",
       "max      216.000000         800000.000000     4.000000          4.900000   \n",
       "\n",
       "              Votes  \n",
       "count   9551.000000  \n",
       "mean     156.909748  \n",
       "std      430.169145  \n",
       "min        0.000000  \n",
       "25%        5.000000  \n",
       "50%       31.000000  \n",
       "75%      131.000000  \n",
       "max    10934.000000  "
      ]
     },
     "execution_count": 16,
     "metadata": {},
     "output_type": "execute_result"
    }
   ],
   "source": [
    "df_zomato.describe()"
   ]
  },
  {
   "cell_type": "markdown",
   "id": "1acbb310-af8b-4b4d-aecd-062f22f6409f",
   "metadata": {},
   "source": [
    "## Correlations Between Variables Values"
   ]
  },
  {
   "cell_type": "code",
   "execution_count": 17,
   "id": "1ded210d-82eb-4eb4-8fd3-b8c75bea4a84",
   "metadata": {},
   "outputs": [
    {
     "data": {
      "text/plain": [
       "<Axes: >"
      ]
     },
     "execution_count": 17,
     "metadata": {},
     "output_type": "execute_result"
    },
    {
     "data": {
      "image/png": "[encoded data removed]",
      "text/plain": [
       "<Figure size 640x480 with 2 Axes>"
      ]
     },
     "metadata": {},
     "output_type": "display_data"
    }
   ],
   "source": [
    "sns.heatmap(df_zomato.corr(numeric_only = True),\n",
    "           annot = True,\n",
    "           linewidth = 2,\n",
    "           )"
   ]
  },
  {
   "cell_type": "markdown",
   "id": "de29d639-f6b9-4c86-b9eb-c15e1caf9cab",
   "metadata": {},
   "source": [
    "## Check Null/Missing Values in DataSet"
   ]
  },
  {
   "cell_type": "code",
   "execution_count": 18,
   "id": "b0404d35-a008-4084-b0e3-6c9c266f6d37",
   "metadata": {},
   "outputs": [
    {
     "data": {
      "text/plain": [
       "Restaurant Name         0\n",
       "Country Code            0\n",
       "City                    0\n",
       "Locality                0\n",
       "Cuisines                9\n",
       "Average Cost for two    0\n",
       "Currency                0\n",
       "Has Table booking       0\n",
       "Has Online delivery     0\n",
       "Is delivering now       0\n",
       "Switch to order menu    0\n",
       "Price range             0\n",
       "Aggregate rating        0\n",
       "Rating color            0\n",
       "Rating text             0\n",
       "Votes                   0\n",
       "dtype: int64"
      ]
     },
     "execution_count": 18,
     "metadata": {},
     "output_type": "execute_result"
    }
   ],
   "source": [
    "df_zomato.isnull().sum()"
   ]
  },
  {
   "cell_type": "markdown",
   "id": "e9f9fa87-731c-4f93-8711-1cca4b34ffb0",
   "metadata": {},
   "source": [
    "## How Many % of Null Value is Present in DataSet."
   ]
  },
  {
   "cell_type": "code",
   "execution_count": 19,
   "id": "0685f826-e65f-40b5-9297-1bf9adf2c7ec",
   "metadata": {},
   "outputs": [
    {
     "data": {
      "text/plain": [
       "Restaurant Name         0.000000\n",
       "Country Code            0.000000\n",
       "City                    0.000000\n",
       "Locality                0.000000\n",
       "Cuisines                0.094231\n",
       "Average Cost for two    0.000000\n",
       "Currency                0.000000\n",
       "Has Table booking       0.000000\n",
       "Has Online delivery     0.000000\n",
       "Is delivering now       0.000000\n",
       "Switch to order menu    0.000000\n",
       "Price range             0.000000\n",
       "Aggregate rating        0.000000\n",
       "Rating color            0.000000\n",
       "Rating text             0.000000\n",
       "Votes                   0.000000\n",
       "dtype: float64"
      ]
     },
     "execution_count": 19,
     "metadata": {},
     "output_type": "execute_result"
    }
   ],
   "source": [
    "percentage_null_Value = df_zomato.isnull().sum() *100 / len(df_zomato)\n",
    "percentage_null_Value"
   ]
  },
  {
   "cell_type": "code",
   "execution_count": 20,
   "id": "cc9ff07f-8fd0-4b56-9e6a-90fafec0a01c",
   "metadata": {},
   "outputs": [
    {
     "data": {
      "text/html": [
       "<div>\n",
       "<style scoped>\n",
       "    .dataframe tbody tr th:only-of-type {\n",
       "        vertical-align: middle;\n",
       "    }\n",
       "\n",
       "    .dataframe tbody tr th {\n",
       "        vertical-align: top;\n",
       "    }\n",
       "\n",
       "    .dataframe thead th {\n",
       "        text-align: right;\n",
       "    }\n",
       "</style>\n",
       "<table border=\"1\" class=\"dataframe\">\n",
       "  <thead>\n",
       "    <tr style=\"text-align: right;\">\n",
       "      <th></th>\n",
       "      <th>Variables</th>\n",
       "      <th>Percent_Missing</th>\n",
       "    </tr>\n",
       "  </thead>\n",
       "  <tbody>\n",
       "    <tr>\n",
       "      <th>Restaurant Name</th>\n",
       "      <td>Restaurant Name</td>\n",
       "      <td>0.000000</td>\n",
       "    </tr>\n",
       "    <tr>\n",
       "      <th>Country Code</th>\n",
       "      <td>Country Code</td>\n",
       "      <td>0.000000</td>\n",
       "    </tr>\n",
       "    <tr>\n",
       "      <th>City</th>\n",
       "      <td>City</td>\n",
       "      <td>0.000000</td>\n",
       "    </tr>\n",
       "    <tr>\n",
       "      <th>Locality</th>\n",
       "      <td>Locality</td>\n",
       "      <td>0.000000</td>\n",
       "    </tr>\n",
       "    <tr>\n",
       "      <th>Average Cost for two</th>\n",
       "      <td>Average Cost for two</td>\n",
       "      <td>0.000000</td>\n",
       "    </tr>\n",
       "    <tr>\n",
       "      <th>Currency</th>\n",
       "      <td>Currency</td>\n",
       "      <td>0.000000</td>\n",
       "    </tr>\n",
       "    <tr>\n",
       "      <th>Has Table booking</th>\n",
       "      <td>Has Table booking</td>\n",
       "      <td>0.000000</td>\n",
       "    </tr>\n",
       "    <tr>\n",
       "      <th>Has Online delivery</th>\n",
       "      <td>Has Online delivery</td>\n",
       "      <td>0.000000</td>\n",
       "    </tr>\n",
       "    <tr>\n",
       "      <th>Is delivering now</th>\n",
       "      <td>Is delivering now</td>\n",
       "      <td>0.000000</td>\n",
       "    </tr>\n",
       "    <tr>\n",
       "      <th>Switch to order menu</th>\n",
       "      <td>Switch to order menu</td>\n",
       "      <td>0.000000</td>\n",
       "    </tr>\n",
       "    <tr>\n",
       "      <th>Price range</th>\n",
       "      <td>Price range</td>\n",
       "      <td>0.000000</td>\n",
       "    </tr>\n",
       "    <tr>\n",
       "      <th>Aggregate rating</th>\n",
       "      <td>Aggregate rating</td>\n",
       "      <td>0.000000</td>\n",
       "    </tr>\n",
       "    <tr>\n",
       "      <th>Rating color</th>\n",
       "      <td>Rating color</td>\n",
       "      <td>0.000000</td>\n",
       "    </tr>\n",
       "    <tr>\n",
       "      <th>Rating text</th>\n",
       "      <td>Rating text</td>\n",
       "      <td>0.000000</td>\n",
       "    </tr>\n",
       "    <tr>\n",
       "      <th>Votes</th>\n",
       "      <td>Votes</td>\n",
       "      <td>0.000000</td>\n",
       "    </tr>\n",
       "    <tr>\n",
       "      <th>Cuisines</th>\n",
       "      <td>Cuisines</td>\n",
       "      <td>0.094231</td>\n",
       "    </tr>\n",
       "  </tbody>\n",
       "</table>\n",
       "</div>"
      ],
      "text/plain": [
       "                                 Variables  Percent_Missing\n",
       "Restaurant Name            Restaurant Name         0.000000\n",
       "Country Code                  Country Code         0.000000\n",
       "City                                  City         0.000000\n",
       "Locality                          Locality         0.000000\n",
       "Average Cost for two  Average Cost for two         0.000000\n",
       "Currency                          Currency         0.000000\n",
       "Has Table booking        Has Table booking         0.000000\n",
       "Has Online delivery    Has Online delivery         0.000000\n",
       "Is delivering now        Is delivering now         0.000000\n",
       "Switch to order menu  Switch to order menu         0.000000\n",
       "Price range                    Price range         0.000000\n",
       "Aggregate rating          Aggregate rating         0.000000\n",
       "Rating color                  Rating color         0.000000\n",
       "Rating text                    Rating text         0.000000\n",
       "Votes                                Votes         0.000000\n",
       "Cuisines                          Cuisines         0.094231"
      ]
     },
     "execution_count": 20,
     "metadata": {},
     "output_type": "execute_result"
    }
   ],
   "source": [
    "missing_df = pd.DataFrame({'Variables':df_zomato.columns,\n",
    "                            'Percent_Missing':percentage_null_Value})\n",
    "\n",
    "missing_df.sort_values('Percent_Missing', inplace = True)\n",
    "missing_df"
   ]
  },
  {
   "cell_type": "markdown",
   "id": "d8b1ae55-d6f0-4389-b7f3-a2d4a3a905f0",
   "metadata": {},
   "source": [
    "## Check Missing Vales for Perticular Columns."
   ]
  },
  {
   "cell_type": "code",
   "execution_count": 21,
   "id": "7dc6cfbb-b7c9-47cf-9e61-4c8de34ca324",
   "metadata": {},
   "outputs": [
    {
     "data": {
      "text/plain": [
       "9"
      ]
     },
     "execution_count": 21,
     "metadata": {},
     "output_type": "execute_result"
    }
   ],
   "source": [
    "df_zomato['Cuisines'].isnull().sum()"
   ]
  },
  {
   "cell_type": "markdown",
   "id": "5739d49f-0cc9-4648-9fcf-7344e9074e73",
   "metadata": {},
   "source": [
    "## Check Percentage of Missing Value from DataSet(Base of Column Name)"
   ]
  },
  {
   "cell_type": "code",
   "execution_count": 22,
   "id": "7ccf65a4-d4ea-498c-a58a-3655865a3834",
   "metadata": {},
   "outputs": [
    {
     "data": {
      "text/plain": [
       "0.09423097057899696"
      ]
     },
     "execution_count": 22,
     "metadata": {},
     "output_type": "execute_result"
    }
   ],
   "source": [
    "Percentage_Missing = df_zomato['Cuisines'].isnull().sum() *100 / len(df_zomato)\n",
    "Percentage_Missing"
   ]
  },
  {
   "cell_type": "markdown",
   "id": "6e0e27ac-1748-4348-9eda-8193c4bcaf13",
   "metadata": {},
   "source": [
    "## Check Column Name"
   ]
  },
  {
   "cell_type": "code",
   "execution_count": 23,
   "id": "1e6ee2d3-d091-4788-9399-90658e81c36f",
   "metadata": {},
   "outputs": [
    {
     "data": {
      "text/plain": [
       "Index(['Restaurant Name', 'Country Code', 'City', 'Locality', 'Cuisines',\n",
       "       'Average Cost for two', 'Currency', 'Has Table booking',\n",
       "       'Has Online delivery', 'Is delivering now', 'Switch to order menu',\n",
       "       'Price range', 'Aggregate rating', 'Rating color', 'Rating text',\n",
       "       'Votes'],\n",
       "      dtype='object')"
      ]
     },
     "execution_count": 23,
     "metadata": {},
     "output_type": "execute_result"
    }
   ],
   "source": [
    "df_zomato.columns"
   ]
  },
  {
   "cell_type": "markdown",
   "id": "12347bd0-26de-47aa-9928-eea1e9272696",
   "metadata": {},
   "source": [
    "## Rename Column Name"
   ]
  },
  {
   "cell_type": "code",
   "execution_count": 24,
   "id": "ef0c0b04-8574-43e5-b4e7-1c5d6e60ded1",
   "metadata": {},
   "outputs": [],
   "source": [
    "df_zomato.rename({'Has Table booking':'Accept_Table_Booking',\n",
    "                 'Rating color':'Rating_Color',\n",
    "                 'Rating text':'Rating',\n",
    "                 'Average Cost for two':'Average_Cost',\n",
    "                 'Has Online delivery':'Online_Delevery',\n",
    "                 'Aggregate rating': 'Aggregate_Rating'},\n",
    "                  axis = 1,\n",
    "                inplace = True\n",
    "                 )"
   ]
  },
  {
   "cell_type": "markdown",
   "id": "d55e9228-ffb8-47d9-9172-758ea9e0124e",
   "metadata": {},
   "source": [
    "## Check Updated Column Name"
   ]
  },
  {
   "cell_type": "code",
   "execution_count": 25,
   "id": "95f8a9bd-f316-4ee0-b87e-88f38d611457",
   "metadata": {},
   "outputs": [
    {
     "data": {
      "text/plain": [
       "Index(['Restaurant Name', 'Country Code', 'City', 'Locality', 'Cuisines',\n",
       "       'Average_Cost', 'Currency', 'Accept_Table_Booking', 'Online_Delevery',\n",
       "       'Is delivering now', 'Switch to order menu', 'Price range',\n",
       "       'Aggregate_Rating', 'Rating_Color', 'Rating', 'Votes'],\n",
       "      dtype='object')"
      ]
     },
     "execution_count": 25,
     "metadata": {},
     "output_type": "execute_result"
    }
   ],
   "source": [
    "df_zomato.columns"
   ]
  },
  {
   "cell_type": "markdown",
   "id": "477ed820-2e18-4661-af98-b6d4509c8018",
   "metadata": {},
   "source": [
    "## Take A Subset"
   ]
  },
  {
   "cell_type": "code",
   "execution_count": 26,
   "id": "146685b5-fd76-4268-a1d9-b60416aa8eba",
   "metadata": {},
   "outputs": [],
   "source": [
    "subset_df = df_zomato[['Rating_Color','Rating','Accept_Table_Booking','Aggregate_Rating']]"
   ]
  },
  {
   "cell_type": "markdown",
   "id": "96e7614f-b060-40d6-85d0-5493f74f8d22",
   "metadata": {},
   "source": [
    "## Rating Subset"
   ]
  },
  {
   "cell_type": "code",
   "execution_count": 27,
   "id": "00d9b678-c22f-49b1-bdd1-3b0223447f23",
   "metadata": {},
   "outputs": [
    {
     "data": {
      "text/plain": [
       "Rating_Color\n",
       "Orange        3737\n",
       "White         2148\n",
       "Yellow        2100\n",
       "Green         1079\n",
       "Dark Green     301\n",
       "Red            186\n",
       "Name: count, dtype: int64"
      ]
     },
     "execution_count": 27,
     "metadata": {},
     "output_type": "execute_result"
    }
   ],
   "source": [
    "subset_df['Rating_Color'].value_counts()"
   ]
  },
  {
   "cell_type": "code",
   "execution_count": 28,
   "id": "032791a7-b19a-4c32-8f8d-5fa1c6dfc725",
   "metadata": {},
   "outputs": [
    {
     "data": {
      "text/plain": [
       "Rating\n",
       "Average      3737\n",
       "Not rated    2148\n",
       "Good         2100\n",
       "Very Good    1079\n",
       "Excellent     301\n",
       "Poor          186\n",
       "Name: count, dtype: int64"
      ]
     },
     "execution_count": 28,
     "metadata": {},
     "output_type": "execute_result"
    }
   ],
   "source": [
    "subset_df['Rating'].value_counts()"
   ]
  },
  {
   "cell_type": "markdown",
   "id": "4c9d5f07-b0d5-4f9f-a23a-0d2a311cc01e",
   "metadata": {},
   "source": [
    "## Table Booking Analysis"
   ]
  },
  {
   "cell_type": "code",
   "execution_count": 29,
   "id": "7314e38c-cdcc-4451-ad5e-915b1b8dd398",
   "metadata": {},
   "outputs": [
    {
     "data": {
      "text/plain": [
       "Accept_Table_Booking\n",
       "No     8393\n",
       "Yes    1158\n",
       "Name: count, dtype: int64"
      ]
     },
     "execution_count": 29,
     "metadata": {},
     "output_type": "execute_result"
    }
   ],
   "source": [
    "df_zomato['Accept_Table_Booking'].value_counts()"
   ]
  },
  {
   "cell_type": "code",
   "execution_count": 30,
   "id": "e9ad0495-4700-4952-bf7e-7ed8b3af8326",
   "metadata": {},
   "outputs": [
    {
     "data": {
      "text/plain": [
       "Aggregate_Rating\n",
       "0.0    2148\n",
       "3.2     522\n",
       "3.1     519\n",
       "3.4     498\n",
       "3.3     483\n",
       "Name: count, dtype: int64"
      ]
     },
     "execution_count": 30,
     "metadata": {},
     "output_type": "execute_result"
    }
   ],
   "source": [
    "subset_df['Aggregate_Rating'].value_counts().head()"
   ]
  },
  {
   "cell_type": "markdown",
   "id": "c048d4c5-cb68-400c-a33c-fef25e7c4b3b",
   "metadata": {},
   "source": [
    "## Rating Analysis"
   ]
  },
  {
   "cell_type": "code",
   "execution_count": 31,
   "id": "15d68e8f-f818-403d-8ed7-ea6d6b140952",
   "metadata": {},
   "outputs": [
    {
     "data": {
      "text/html": [
       "<div>\n",
       "<style scoped>\n",
       "    .dataframe tbody tr th:only-of-type {\n",
       "        vertical-align: middle;\n",
       "    }\n",
       "\n",
       "    .dataframe tbody tr th {\n",
       "        vertical-align: top;\n",
       "    }\n",
       "\n",
       "    .dataframe thead tr th {\n",
       "        text-align: left;\n",
       "    }\n",
       "\n",
       "    .dataframe thead tr:last-of-type th {\n",
       "        text-align: right;\n",
       "    }\n",
       "</style>\n",
       "<table border=\"1\" class=\"dataframe\">\n",
       "  <thead>\n",
       "    <tr>\n",
       "      <th></th>\n",
       "      <th colspan=\"2\" halign=\"left\">Aggregate_Rating</th>\n",
       "      <th colspan=\"2\" halign=\"left\">Rating</th>\n",
       "    </tr>\n",
       "    <tr>\n",
       "      <th></th>\n",
       "      <th>min</th>\n",
       "      <th>max</th>\n",
       "      <th>min</th>\n",
       "      <th>max</th>\n",
       "    </tr>\n",
       "    <tr>\n",
       "      <th>Rating_Color</th>\n",
       "      <th></th>\n",
       "      <th></th>\n",
       "      <th></th>\n",
       "      <th></th>\n",
       "    </tr>\n",
       "  </thead>\n",
       "  <tbody>\n",
       "    <tr>\n",
       "      <th>Dark Green</th>\n",
       "      <td>4.5</td>\n",
       "      <td>4.9</td>\n",
       "      <td>Excellent</td>\n",
       "      <td>Excellent</td>\n",
       "    </tr>\n",
       "    <tr>\n",
       "      <th>Green</th>\n",
       "      <td>4.0</td>\n",
       "      <td>4.4</td>\n",
       "      <td>Very Good</td>\n",
       "      <td>Very Good</td>\n",
       "    </tr>\n",
       "    <tr>\n",
       "      <th>Orange</th>\n",
       "      <td>2.5</td>\n",
       "      <td>3.4</td>\n",
       "      <td>Average</td>\n",
       "      <td>Average</td>\n",
       "    </tr>\n",
       "    <tr>\n",
       "      <th>Red</th>\n",
       "      <td>1.8</td>\n",
       "      <td>2.4</td>\n",
       "      <td>Poor</td>\n",
       "      <td>Poor</td>\n",
       "    </tr>\n",
       "    <tr>\n",
       "      <th>White</th>\n",
       "      <td>0.0</td>\n",
       "      <td>0.0</td>\n",
       "      <td>Not rated</td>\n",
       "      <td>Not rated</td>\n",
       "    </tr>\n",
       "    <tr>\n",
       "      <th>Yellow</th>\n",
       "      <td>3.5</td>\n",
       "      <td>3.9</td>\n",
       "      <td>Good</td>\n",
       "      <td>Good</td>\n",
       "    </tr>\n",
       "  </tbody>\n",
       "</table>\n",
       "</div>"
      ],
      "text/plain": [
       "             Aggregate_Rating          Rating           \n",
       "                          min  max        min        max\n",
       "Rating_Color                                            \n",
       "Dark Green                4.5  4.9  Excellent  Excellent\n",
       "Green                     4.0  4.4  Very Good  Very Good\n",
       "Orange                    2.5  3.4    Average    Average\n",
       "Red                       1.8  2.4       Poor       Poor\n",
       "White                     0.0  0.0  Not rated  Not rated\n",
       "Yellow                    3.5  3.9       Good       Good"
      ]
     },
     "execution_count": 31,
     "metadata": {},
     "output_type": "execute_result"
    }
   ],
   "source": [
    "result_rating = subset_df.groupby('Rating_Color')[['Aggregate_Rating','Rating']].aggregate(['min','max'])\n",
    "result_rating"
   ]
  },
  {
   "cell_type": "markdown",
   "id": "a9af575c-68d4-443c-b5f5-990f8d58912c",
   "metadata": {},
   "source": [
    "## Box Plot of Aggregate Rating"
   ]
  },
  {
   "cell_type": "code",
   "execution_count": 32,
   "id": "e73fe8a8-94fb-4c7a-9985-037e891005ab",
   "metadata": {},
   "outputs": [
    {
     "data": {
      "text/plain": [
       "<Axes: xlabel='Aggregate_Rating'>"
      ]
     },
     "execution_count": 32,
     "metadata": {},
     "output_type": "execute_result"
    },
    {
     "data": {
      "image/png": "[encoded data removed]",
      "text/plain": [
       "<Figure size 640x480 with 1 Axes>"
      ]
     },
     "metadata": {},
     "output_type": "display_data"
    }
   ],
   "source": [
    "sns.boxplot(data= df_zomato,\n",
    "           x = 'Aggregate_Rating',\n",
    "           color = 'red',\n",
    "           width=0.5)"
   ]
  },
  {
   "cell_type": "raw",
   "id": "f9d9f296-fceb-440f-b20e-496d6cc8cd62",
   "metadata": {},
   "source": [
    "75% of the aggregate rating lie between 2.3 to 3.6"
   ]
  },
  {
   "cell_type": "markdown",
   "id": "0715b0f7-43c6-42f3-b9ca-832a41e7fe73",
   "metadata": {},
   "source": [
    "## Joining Operation Between Two DataSet (Zomato and Country-Code)"
   ]
  },
  {
   "cell_type": "code",
   "execution_count": 33,
   "id": "6a3861b0-e419-4754-a78b-a48df0828c72",
   "metadata": {},
   "outputs": [
    {
     "data": {
      "text/html": [
       "<div>\n",
       "<style scoped>\n",
       "    .dataframe tbody tr th:only-of-type {\n",
       "        vertical-align: middle;\n",
       "    }\n",
       "\n",
       "    .dataframe tbody tr th {\n",
       "        vertical-align: top;\n",
       "    }\n",
       "\n",
       "    .dataframe thead th {\n",
       "        text-align: right;\n",
       "    }\n",
       "</style>\n",
       "<table border=\"1\" class=\"dataframe\">\n",
       "  <thead>\n",
       "    <tr style=\"text-align: right;\">\n",
       "      <th></th>\n",
       "      <th>Restaurant Name</th>\n",
       "      <th>Country Code</th>\n",
       "      <th>City</th>\n",
       "      <th>Locality</th>\n",
       "      <th>Cuisines</th>\n",
       "      <th>Average_Cost</th>\n",
       "      <th>Currency</th>\n",
       "      <th>Accept_Table_Booking</th>\n",
       "      <th>Online_Delevery</th>\n",
       "      <th>Is delivering now</th>\n",
       "      <th>Switch to order menu</th>\n",
       "      <th>Price range</th>\n",
       "      <th>Aggregate_Rating</th>\n",
       "      <th>Rating_Color</th>\n",
       "      <th>Rating</th>\n",
       "      <th>Votes</th>\n",
       "      <th>Country</th>\n",
       "    </tr>\n",
       "  </thead>\n",
       "  <tbody>\n",
       "    <tr>\n",
       "      <th>0</th>\n",
       "      <td>Le Petit Souffle</td>\n",
       "      <td>162</td>\n",
       "      <td>Makati City</td>\n",
       "      <td>Century City Mall, Poblacion, Makati City</td>\n",
       "      <td>French, Japanese, Desserts</td>\n",
       "      <td>1100</td>\n",
       "      <td>Botswana Pula(P)</td>\n",
       "      <td>Yes</td>\n",
       "      <td>No</td>\n",
       "      <td>No</td>\n",
       "      <td>No</td>\n",
       "      <td>3</td>\n",
       "      <td>4.8</td>\n",
       "      <td>Dark Green</td>\n",
       "      <td>Excellent</td>\n",
       "      <td>314</td>\n",
       "      <td>Phillipines</td>\n",
       "    </tr>\n",
       "    <tr>\n",
       "      <th>1</th>\n",
       "      <td>Izakaya Kikufuji</td>\n",
       "      <td>162</td>\n",
       "      <td>Makati City</td>\n",
       "      <td>Little Tokyo, Legaspi Village, Makati City</td>\n",
       "      <td>Japanese</td>\n",
       "      <td>1200</td>\n",
       "      <td>Botswana Pula(P)</td>\n",
       "      <td>Yes</td>\n",
       "      <td>No</td>\n",
       "      <td>No</td>\n",
       "      <td>No</td>\n",
       "      <td>3</td>\n",
       "      <td>4.5</td>\n",
       "      <td>Dark Green</td>\n",
       "      <td>Excellent</td>\n",
       "      <td>591</td>\n",
       "      <td>Phillipines</td>\n",
       "    </tr>\n",
       "    <tr>\n",
       "      <th>2</th>\n",
       "      <td>Heat - Edsa Shangri-La</td>\n",
       "      <td>162</td>\n",
       "      <td>Mandaluyong City</td>\n",
       "      <td>Edsa Shangri-La, Ortigas, Mandaluyong City</td>\n",
       "      <td>Seafood, Asian, Filipino, Indian</td>\n",
       "      <td>4000</td>\n",
       "      <td>Botswana Pula(P)</td>\n",
       "      <td>Yes</td>\n",
       "      <td>No</td>\n",
       "      <td>No</td>\n",
       "      <td>No</td>\n",
       "      <td>4</td>\n",
       "      <td>4.4</td>\n",
       "      <td>Green</td>\n",
       "      <td>Very Good</td>\n",
       "      <td>270</td>\n",
       "      <td>Phillipines</td>\n",
       "    </tr>\n",
       "  </tbody>\n",
       "</table>\n",
       "</div>"
      ],
      "text/plain": [
       "          Restaurant Name  Country Code              City  \\\n",
       "0        Le Petit Souffle           162       Makati City   \n",
       "1        Izakaya Kikufuji           162       Makati City   \n",
       "2  Heat - Edsa Shangri-La           162  Mandaluyong City   \n",
       "\n",
       "                                     Locality  \\\n",
       "0   Century City Mall, Poblacion, Makati City   \n",
       "1  Little Tokyo, Legaspi Village, Makati City   \n",
       "2  Edsa Shangri-La, Ortigas, Mandaluyong City   \n",
       "\n",
       "                           Cuisines  Average_Cost          Currency  \\\n",
       "0        French, Japanese, Desserts          1100  Botswana Pula(P)   \n",
       "1                          Japanese          1200  Botswana Pula(P)   \n",
       "2  Seafood, Asian, Filipino, Indian          4000  Botswana Pula(P)   \n",
       "\n",
       "  Accept_Table_Booking Online_Delevery Is delivering now Switch to order menu  \\\n",
       "0                  Yes              No                No                   No   \n",
       "1                  Yes              No                No                   No   \n",
       "2                  Yes              No                No                   No   \n",
       "\n",
       "   Price range  Aggregate_Rating Rating_Color     Rating  Votes      Country  \n",
       "0            3               4.8   Dark Green  Excellent    314  Phillipines  \n",
       "1            3               4.5   Dark Green  Excellent    591  Phillipines  \n",
       "2            4               4.4        Green  Very Good    270  Phillipines  "
      ]
     },
     "execution_count": 33,
     "metadata": {},
     "output_type": "execute_result"
    }
   ],
   "source": [
    "join_df = pd.merge(left = df_zomato,\n",
    "                   right = df_country_code,\n",
    "                   left_on = 'Country Code',\n",
    "                   right_on = 'Country Code',\n",
    "                   how = 'inner')\n",
    "\n",
    "join_df.head(3)"
   ]
  },
  {
   "cell_type": "markdown",
   "id": "93e68f9d-7f41-4afd-9817-cc9ebf3d31be",
   "metadata": {},
   "source": [
    "## Show Country-Code Data"
   ]
  },
  {
   "cell_type": "code",
   "execution_count": 34,
   "id": "d40b108a-256f-4bd9-a985-f9da66abe099",
   "metadata": {},
   "outputs": [
    {
     "data": {
      "text/html": [
       "<div>\n",
       "<style scoped>\n",
       "    .dataframe tbody tr th:only-of-type {\n",
       "        vertical-align: middle;\n",
       "    }\n",
       "\n",
       "    .dataframe tbody tr th {\n",
       "        vertical-align: top;\n",
       "    }\n",
       "\n",
       "    .dataframe thead th {\n",
       "        text-align: right;\n",
       "    }\n",
       "</style>\n",
       "<table border=\"1\" class=\"dataframe\">\n",
       "  <thead>\n",
       "    <tr style=\"text-align: right;\">\n",
       "      <th></th>\n",
       "      <th>Country Code</th>\n",
       "      <th>Country</th>\n",
       "    </tr>\n",
       "  </thead>\n",
       "  <tbody>\n",
       "    <tr>\n",
       "      <th>0</th>\n",
       "      <td>1</td>\n",
       "      <td>India</td>\n",
       "    </tr>\n",
       "    <tr>\n",
       "      <th>1</th>\n",
       "      <td>14</td>\n",
       "      <td>Australia</td>\n",
       "    </tr>\n",
       "    <tr>\n",
       "      <th>2</th>\n",
       "      <td>30</td>\n",
       "      <td>Brazil</td>\n",
       "    </tr>\n",
       "    <tr>\n",
       "      <th>3</th>\n",
       "      <td>37</td>\n",
       "      <td>Canada</td>\n",
       "    </tr>\n",
       "    <tr>\n",
       "      <th>4</th>\n",
       "      <td>94</td>\n",
       "      <td>Indonesia</td>\n",
       "    </tr>\n",
       "  </tbody>\n",
       "</table>\n",
       "</div>"
      ],
      "text/plain": [
       "   Country Code    Country\n",
       "0             1      India\n",
       "1            14  Australia\n",
       "2            30     Brazil\n",
       "3            37     Canada\n",
       "4            94  Indonesia"
      ]
     },
     "execution_count": 34,
     "metadata": {},
     "output_type": "execute_result"
    }
   ],
   "source": [
    "df_country_code.head()"
   ]
  },
  {
   "cell_type": "markdown",
   "id": "c4f7cd67-d542-40ed-aa58-8eda7873c482",
   "metadata": {},
   "source": [
    "## Shape/Size of Join_df"
   ]
  },
  {
   "cell_type": "code",
   "execution_count": 35,
   "id": "0d856bf2-a177-44c7-9e67-27e3d396faac",
   "metadata": {},
   "outputs": [
    {
     "data": {
      "text/plain": [
       "(9551, 17)"
      ]
     },
     "execution_count": 35,
     "metadata": {},
     "output_type": "execute_result"
    }
   ],
   "source": [
    "join_df.shape"
   ]
  },
  {
   "cell_type": "code",
   "execution_count": 36,
   "id": "41633fb1-ecee-46b4-b6b8-6f3750e1439a",
   "metadata": {},
   "outputs": [
    {
     "data": {
      "text/plain": [
       "Country Code  Currency              \n",
       "1             Indian Rupees(Rs.)        8652\n",
       "216           Dollar($)                  434\n",
       "215           Pounds(£)                  80\n",
       "30            Brazilian Real(R$)          60\n",
       "189           Rand(R)                     60\n",
       "214           Emirati Diram(AED)          60\n",
       "148           NewZealand($)               40\n",
       "208           Turkish Lira(TL)            34\n",
       "14            Dollar($)                   24\n",
       "162           Botswana Pula(P)            22\n",
       "94            Indonesian Rupiah(IDR)      21\n",
       "166           Qatari Rial(QR)             20\n",
       "184           Dollar($)                   20\n",
       "191           Sri Lankan Rupee(LKR)       20\n",
       "37            Dollar($)                    4\n",
       "Name: count, dtype: int64"
      ]
     },
     "execution_count": 36,
     "metadata": {},
     "output_type": "execute_result"
    }
   ],
   "source": [
    "currency_df = join_df.loc[:,['Country Code', 'Currency']]\n",
    "currency_df.value_counts()\n",
    "\n",
    "# Apply .loc function on country-code and currency.\n",
    "# (:) means all rows in pandas"
   ]
  },
  {
   "cell_type": "markdown",
   "id": "7c6c59b0-c760-4599-83ab-f009ae18c7a3",
   "metadata": {},
   "source": [
    "## How Many Restaurant Provide Online Delevery?"
   ]
  },
  {
   "cell_type": "code",
   "execution_count": 37,
   "id": "e0bffd88-2305-4e79-8157-d6b82f7b5d6f",
   "metadata": {},
   "outputs": [
    {
     "data": {
      "text/plain": [
       "Online_Delevery\n",
       "No     7100\n",
       "Yes    2451\n",
       "Name: count, dtype: int64"
      ]
     },
     "execution_count": 37,
     "metadata": {},
     "output_type": "execute_result"
    }
   ],
   "source": [
    "join_df['Online_Delevery'].value_counts()"
   ]
  },
  {
   "cell_type": "markdown",
   "id": "66034cbf-fa11-41f2-ab82-d897a9186ab9",
   "metadata": {},
   "source": [
    "## Which Country more Penetration in zomato(In %)?"
   ]
  },
  {
   "cell_type": "code",
   "execution_count": 38,
   "id": "d009f587-73e4-40b2-8efa-142670f759a3",
   "metadata": {},
   "outputs": [
    {
     "data": {
      "text/plain": [
       "Country\n",
       "India             90.587373\n",
       "United States      4.544027\n",
       "United Kingdom     0.837609\n",
       "Brazil             0.628206\n",
       "UAE                0.628206\n",
       "South Africa       0.628206\n",
       "New Zealand        0.418804\n",
       "Turkey             0.355984\n",
       "Australia          0.251283\n",
       "Phillipines        0.230342\n",
       "Indonesia          0.219872\n",
       "Singapore          0.209402\n",
       "Qatar              0.209402\n",
       "Sri Lanka          0.209402\n",
       "Canada             0.041880\n",
       "Name: count, dtype: float64"
      ]
     },
     "execution_count": 38,
     "metadata": {},
     "output_type": "execute_result"
    }
   ],
   "source": [
    "Perc_Penetration = join_df.Country.value_counts() *100/ len(join_df['Country'])\n",
    "Perc_Penetration"
   ]
  },
  {
   "cell_type": "markdown",
   "id": "b454cb12-c059-41c2-b4c7-de58a9699392",
   "metadata": {},
   "source": [
    "## Just Country Name wise Penetration(Base on Index)"
   ]
  },
  {
   "cell_type": "code",
   "execution_count": 39,
   "id": "648c8a5f-afdf-4973-b0a5-df10b1b4160a",
   "metadata": {},
   "outputs": [
    {
     "data": {
      "text/plain": [
       "Index(['India', 'United States', 'United Kingdom', 'Brazil', 'UAE',\n",
       "       'South Africa', 'New Zealand', 'Turkey', 'Australia', 'Phillipines',\n",
       "       'Indonesia', 'Singapore', 'Qatar', 'Sri Lanka', 'Canada'],\n",
       "      dtype='object', name='Country')"
      ]
     },
     "execution_count": 39,
     "metadata": {},
     "output_type": "execute_result"
    }
   ],
   "source": [
    "country_names = join_df.Country.value_counts().index\n",
    "country_names"
   ]
  },
  {
   "cell_type": "markdown",
   "id": "2c6b6ed3-3d3a-4b04-a005-6986adb8ba15",
   "metadata": {},
   "source": [
    "## Just Values wise Penetration(Base on Index)"
   ]
  },
  {
   "cell_type": "code",
   "execution_count": 40,
   "id": "cff3c3cc-0d95-4d6d-a8f6-a18738d0d7d0",
   "metadata": {},
   "outputs": [
    {
     "data": {
      "text/plain": [
       "array([8652,  434,   80,   60,   60,   60,   40,   34,   24,   22,   21,\n",
       "         20,   20,   20,    4], dtype=int64)"
      ]
     },
     "execution_count": 40,
     "metadata": {},
     "output_type": "execute_result"
    }
   ],
   "source": [
    "country_values = join_df.Country.value_counts().values\n",
    "country_values"
   ]
  },
  {
   "cell_type": "markdown",
   "id": "c0d7a947-7068-4474-b873-77a22cc0ee8d",
   "metadata": {},
   "source": [
    "## Penetration By Pie Chart."
   ]
  },
  {
   "cell_type": "code",
   "execution_count": 41,
   "id": "f1d6f35d-6944-4456-ae96-c8c5b79d17e9",
   "metadata": {},
   "outputs": [
    {
     "data": {
      "image/png": "[encoded data removed]",
      "text/plain": [
       "<Figure size 640x480 with 1 Axes>"
      ]
     },
     "metadata": {},
     "output_type": "display_data"
    }
   ],
   "source": [
    "plt.pie(country_values[:3], labels = country_names[:3],shadow = 'True')\n",
    "plt.show()"
   ]
  },
  {
   "cell_type": "markdown",
   "id": "c26ffee6-5c6d-48c3-ab98-f29f690965af",
   "metadata": {},
   "source": [
    "## Country and Online Delevery"
   ]
  },
  {
   "cell_type": "code",
   "execution_count": 42,
   "id": "cd5c0461-dee4-43b0-891e-d9c3c421b0cc",
   "metadata": {},
   "outputs": [
    {
     "data": {
      "text/html": [
       "<div>\n",
       "<style scoped>\n",
       "    .dataframe tbody tr th:only-of-type {\n",
       "        vertical-align: middle;\n",
       "    }\n",
       "\n",
       "    .dataframe tbody tr th {\n",
       "        vertical-align: top;\n",
       "    }\n",
       "\n",
       "    .dataframe thead th {\n",
       "        text-align: right;\n",
       "    }\n",
       "</style>\n",
       "<table border=\"1\" class=\"dataframe\">\n",
       "  <thead>\n",
       "    <tr style=\"text-align: right;\">\n",
       "      <th></th>\n",
       "      <th>Country</th>\n",
       "      <th>Online_Delevery</th>\n",
       "      <th>0</th>\n",
       "    </tr>\n",
       "  </thead>\n",
       "  <tbody>\n",
       "    <tr>\n",
       "      <th>0</th>\n",
       "      <td>Australia</td>\n",
       "      <td>No</td>\n",
       "      <td>24</td>\n",
       "    </tr>\n",
       "    <tr>\n",
       "      <th>1</th>\n",
       "      <td>Brazil</td>\n",
       "      <td>No</td>\n",
       "      <td>60</td>\n",
       "    </tr>\n",
       "    <tr>\n",
       "      <th>2</th>\n",
       "      <td>Canada</td>\n",
       "      <td>No</td>\n",
       "      <td>4</td>\n",
       "    </tr>\n",
       "    <tr>\n",
       "      <th>3</th>\n",
       "      <td>India</td>\n",
       "      <td>No</td>\n",
       "      <td>6229</td>\n",
       "    </tr>\n",
       "    <tr>\n",
       "      <th>4</th>\n",
       "      <td>India</td>\n",
       "      <td>Yes</td>\n",
       "      <td>2423</td>\n",
       "    </tr>\n",
       "    <tr>\n",
       "      <th>5</th>\n",
       "      <td>Indonesia</td>\n",
       "      <td>No</td>\n",
       "      <td>21</td>\n",
       "    </tr>\n",
       "    <tr>\n",
       "      <th>6</th>\n",
       "      <td>New Zealand</td>\n",
       "      <td>No</td>\n",
       "      <td>40</td>\n",
       "    </tr>\n",
       "    <tr>\n",
       "      <th>7</th>\n",
       "      <td>Phillipines</td>\n",
       "      <td>No</td>\n",
       "      <td>22</td>\n",
       "    </tr>\n",
       "    <tr>\n",
       "      <th>8</th>\n",
       "      <td>Qatar</td>\n",
       "      <td>No</td>\n",
       "      <td>20</td>\n",
       "    </tr>\n",
       "    <tr>\n",
       "      <th>9</th>\n",
       "      <td>Singapore</td>\n",
       "      <td>No</td>\n",
       "      <td>20</td>\n",
       "    </tr>\n",
       "    <tr>\n",
       "      <th>10</th>\n",
       "      <td>South Africa</td>\n",
       "      <td>No</td>\n",
       "      <td>60</td>\n",
       "    </tr>\n",
       "    <tr>\n",
       "      <th>11</th>\n",
       "      <td>Sri Lanka</td>\n",
       "      <td>No</td>\n",
       "      <td>20</td>\n",
       "    </tr>\n",
       "    <tr>\n",
       "      <th>12</th>\n",
       "      <td>Turkey</td>\n",
       "      <td>No</td>\n",
       "      <td>34</td>\n",
       "    </tr>\n",
       "    <tr>\n",
       "      <th>13</th>\n",
       "      <td>UAE</td>\n",
       "      <td>No</td>\n",
       "      <td>32</td>\n",
       "    </tr>\n",
       "    <tr>\n",
       "      <th>14</th>\n",
       "      <td>UAE</td>\n",
       "      <td>Yes</td>\n",
       "      <td>28</td>\n",
       "    </tr>\n",
       "    <tr>\n",
       "      <th>15</th>\n",
       "      <td>United Kingdom</td>\n",
       "      <td>No</td>\n",
       "      <td>80</td>\n",
       "    </tr>\n",
       "    <tr>\n",
       "      <th>16</th>\n",
       "      <td>United States</td>\n",
       "      <td>No</td>\n",
       "      <td>434</td>\n",
       "    </tr>\n",
       "  </tbody>\n",
       "</table>\n",
       "</div>"
      ],
      "text/plain": [
       "           Country Online_Delevery     0\n",
       "0        Australia              No    24\n",
       "1           Brazil              No    60\n",
       "2           Canada              No     4\n",
       "3            India              No  6229\n",
       "4            India             Yes  2423\n",
       "5        Indonesia              No    21\n",
       "6      New Zealand              No    40\n",
       "7      Phillipines              No    22\n",
       "8            Qatar              No    20\n",
       "9        Singapore              No    20\n",
       "10    South Africa              No    60\n",
       "11       Sri Lanka              No    20\n",
       "12          Turkey              No    34\n",
       "13             UAE              No    32\n",
       "14             UAE             Yes    28\n",
       "15  United Kingdom              No    80\n",
       "16   United States              No   434"
      ]
     },
     "execution_count": 42,
     "metadata": {},
     "output_type": "execute_result"
    }
   ],
   "source": [
    "join_df.groupby(['Country', 'Online_Delevery']).size().reset_index()"
   ]
  },
  {
   "cell_type": "code",
   "execution_count": 43,
   "id": "c01c5944-328f-4e0b-815f-45506a371992",
   "metadata": {},
   "outputs": [
    {
     "data": {
      "text/plain": [
       "Country         Online_Delevery\n",
       "Australia       No                   24\n",
       "Brazil          No                   60\n",
       "Canada          No                    4\n",
       "India           No                 6229\n",
       "                Yes                2423\n",
       "Indonesia       No                   21\n",
       "New Zealand     No                   40\n",
       "Phillipines     No                   22\n",
       "Qatar           No                   20\n",
       "Singapore       No                   20\n",
       "South Africa    No                   60\n",
       "Sri Lanka       No                   20\n",
       "Turkey          No                   34\n",
       "UAE             No                   32\n",
       "                Yes                  28\n",
       "United Kingdom  No                   80\n",
       "United States   No                  434\n",
       "dtype: int64"
      ]
     },
     "execution_count": 43,
     "metadata": {},
     "output_type": "execute_result"
    }
   ],
   "source": [
    "join_df.groupby(['Country', 'Online_Delevery']).size()"
   ]
  },
  {
   "cell_type": "markdown",
   "id": "53dcb6a1-e9ff-4175-9ddb-0e890b878fe5",
   "metadata": {},
   "source": [
    "## Which Country have online delevery options available on zomato."
   ]
  },
  {
   "cell_type": "code",
   "execution_count": 44,
   "id": "5b6c934b-47c4-49b8-b58e-d90c32237bf4",
   "metadata": {},
   "outputs": [
    {
     "data": {
      "text/plain": [
       "Country\n",
       "India    2423\n",
       "UAE        28\n",
       "Name: count, dtype: int64"
      ]
     },
     "execution_count": 44,
     "metadata": {},
     "output_type": "execute_result"
    }
   ],
   "source": [
    "join_df[join_df['Online_Delevery']=='Yes'].Country.value_counts()"
   ]
  },
  {
   "cell_type": "markdown",
   "id": "353ed930-742b-43cb-8fd0-2bc49dede8bc",
   "metadata": {},
   "source": [
    "## Which Country have online delevery options not available on zomato."
   ]
  },
  {
   "cell_type": "code",
   "execution_count": 45,
   "id": "9e3d6263-be33-4558-a78f-85e960400ba0",
   "metadata": {},
   "outputs": [
    {
     "data": {
      "text/plain": [
       "Country\n",
       "India             6229\n",
       "United States      434\n",
       "United Kingdom      80\n",
       "Brazil              60\n",
       "South Africa        60\n",
       "New Zealand         40\n",
       "Turkey              34\n",
       "UAE                 32\n",
       "Australia           24\n",
       "Phillipines         22\n",
       "Indonesia           21\n",
       "Singapore           20\n",
       "Qatar               20\n",
       "Sri Lanka           20\n",
       "Canada               4\n",
       "Name: count, dtype: int64"
      ]
     },
     "execution_count": 45,
     "metadata": {},
     "output_type": "execute_result"
    }
   ],
   "source": [
    "join_df[join_df['Online_Delevery']=='No'].Country.value_counts()"
   ]
  },
  {
   "cell_type": "markdown",
   "id": "af357066-b32b-499c-b35b-4f8f51e83c19",
   "metadata": {},
   "source": [
    "## Online Delevery, Courrency and Country"
   ]
  },
  {
   "cell_type": "code",
   "execution_count": 46,
   "id": "dec5f160-0ec3-4499-9f77-923bbdfaf7ff",
   "metadata": {},
   "outputs": [
    {
     "data": {
      "text/plain": [
       "Country  Currency          \n",
       "India    Indian Rupees(Rs.)    2423\n",
       "UAE      Emirati Diram(AED)      28\n",
       "Name: count, dtype: int64"
      ]
     },
     "execution_count": 46,
     "metadata": {},
     "output_type": "execute_result"
    }
   ],
   "source": [
    "join_df.loc[join_df['Online_Delevery'] == 'Yes', ['Country', 'Currency']].value_counts()"
   ]
  },
  {
   "cell_type": "code",
   "execution_count": 47,
   "id": "2d59fa52-efac-4413-84d4-c9d5a646bab3",
   "metadata": {},
   "outputs": [
    {
     "data": {
      "text/plain": [
       "Country         Currency              \n",
       "India           Indian Rupees(Rs.)        6229\n",
       "United States   Dollar($)                  434\n",
       "United Kingdom  Pounds(£)                  80\n",
       "Brazil          Brazilian Real(R$)          60\n",
       "South Africa    Rand(R)                     60\n",
       "New Zealand     NewZealand($)               40\n",
       "Turkey          Turkish Lira(TL)            34\n",
       "UAE             Emirati Diram(AED)          32\n",
       "Australia       Dollar($)                   24\n",
       "Phillipines     Botswana Pula(P)            22\n",
       "Indonesia       Indonesian Rupiah(IDR)      21\n",
       "Qatar           Qatari Rial(QR)             20\n",
       "Singapore       Dollar($)                   20\n",
       "Sri Lanka       Sri Lankan Rupee(LKR)       20\n",
       "Canada          Dollar($)                    4\n",
       "Name: count, dtype: int64"
      ]
     },
     "execution_count": 47,
     "metadata": {},
     "output_type": "execute_result"
    }
   ],
   "source": [
    "join_df.loc[join_df['Online_Delevery'] == 'No', ['Country', 'Currency']].value_counts()"
   ]
  },
  {
   "cell_type": "markdown",
   "id": "e45d3b36-52c8-4192-a154-29eb22e8d466",
   "metadata": {},
   "source": [
    "## Zomato Stores in India "
   ]
  },
  {
   "cell_type": "code",
   "execution_count": 48,
   "id": "c55eea52-89bf-41cb-b446-c096a31510a5",
   "metadata": {},
   "outputs": [
    {
     "data": {
      "text/html": [
       "<div>\n",
       "<style scoped>\n",
       "    .dataframe tbody tr th:only-of-type {\n",
       "        vertical-align: middle;\n",
       "    }\n",
       "\n",
       "    .dataframe tbody tr th {\n",
       "        vertical-align: top;\n",
       "    }\n",
       "\n",
       "    .dataframe thead th {\n",
       "        text-align: right;\n",
       "    }\n",
       "</style>\n",
       "<table border=\"1\" class=\"dataframe\">\n",
       "  <thead>\n",
       "    <tr style=\"text-align: right;\">\n",
       "      <th></th>\n",
       "      <th>Restaurant Name</th>\n",
       "      <th>Country Code</th>\n",
       "      <th>City</th>\n",
       "      <th>Locality</th>\n",
       "      <th>Cuisines</th>\n",
       "      <th>Average_Cost</th>\n",
       "      <th>Currency</th>\n",
       "      <th>Accept_Table_Booking</th>\n",
       "      <th>Online_Delevery</th>\n",
       "      <th>Is delivering now</th>\n",
       "      <th>Switch to order menu</th>\n",
       "      <th>Price range</th>\n",
       "      <th>Aggregate_Rating</th>\n",
       "      <th>Rating_Color</th>\n",
       "      <th>Rating</th>\n",
       "      <th>Votes</th>\n",
       "      <th>Country</th>\n",
       "    </tr>\n",
       "  </thead>\n",
       "  <tbody>\n",
       "    <tr>\n",
       "      <th>624</th>\n",
       "      <td>Jahanpanah</td>\n",
       "      <td>1</td>\n",
       "      <td>Agra</td>\n",
       "      <td>Agra Cantt</td>\n",
       "      <td>North Indian, Mughlai</td>\n",
       "      <td>850</td>\n",
       "      <td>Indian Rupees(Rs.)</td>\n",
       "      <td>No</td>\n",
       "      <td>No</td>\n",
       "      <td>No</td>\n",
       "      <td>No</td>\n",
       "      <td>3</td>\n",
       "      <td>3.9</td>\n",
       "      <td>Yellow</td>\n",
       "      <td>Good</td>\n",
       "      <td>140</td>\n",
       "      <td>India</td>\n",
       "    </tr>\n",
       "    <tr>\n",
       "      <th>625</th>\n",
       "      <td>Rangrezz Restaurant</td>\n",
       "      <td>1</td>\n",
       "      <td>Agra</td>\n",
       "      <td>Agra Cantt</td>\n",
       "      <td>North Indian, Mughlai</td>\n",
       "      <td>700</td>\n",
       "      <td>Indian Rupees(Rs.)</td>\n",
       "      <td>No</td>\n",
       "      <td>No</td>\n",
       "      <td>No</td>\n",
       "      <td>No</td>\n",
       "      <td>2</td>\n",
       "      <td>3.5</td>\n",
       "      <td>Yellow</td>\n",
       "      <td>Good</td>\n",
       "      <td>71</td>\n",
       "      <td>India</td>\n",
       "    </tr>\n",
       "    <tr>\n",
       "      <th>626</th>\n",
       "      <td>Time2Eat - Mama Chicken</td>\n",
       "      <td>1</td>\n",
       "      <td>Agra</td>\n",
       "      <td>Agra Cantt</td>\n",
       "      <td>North Indian</td>\n",
       "      <td>500</td>\n",
       "      <td>Indian Rupees(Rs.)</td>\n",
       "      <td>No</td>\n",
       "      <td>No</td>\n",
       "      <td>No</td>\n",
       "      <td>No</td>\n",
       "      <td>2</td>\n",
       "      <td>3.6</td>\n",
       "      <td>Yellow</td>\n",
       "      <td>Good</td>\n",
       "      <td>94</td>\n",
       "      <td>India</td>\n",
       "    </tr>\n",
       "    <tr>\n",
       "      <th>627</th>\n",
       "      <td>Chokho Jeeman Marwari Jain Bhojanalya</td>\n",
       "      <td>1</td>\n",
       "      <td>Agra</td>\n",
       "      <td>Civil Lines</td>\n",
       "      <td>Rajasthani</td>\n",
       "      <td>400</td>\n",
       "      <td>Indian Rupees(Rs.)</td>\n",
       "      <td>No</td>\n",
       "      <td>No</td>\n",
       "      <td>No</td>\n",
       "      <td>No</td>\n",
       "      <td>2</td>\n",
       "      <td>4.0</td>\n",
       "      <td>Green</td>\n",
       "      <td>Very Good</td>\n",
       "      <td>87</td>\n",
       "      <td>India</td>\n",
       "    </tr>\n",
       "    <tr>\n",
       "      <th>628</th>\n",
       "      <td>Pinch Of Spice</td>\n",
       "      <td>1</td>\n",
       "      <td>Agra</td>\n",
       "      <td>Civil Lines</td>\n",
       "      <td>North Indian, Chinese, Mughlai</td>\n",
       "      <td>1000</td>\n",
       "      <td>Indian Rupees(Rs.)</td>\n",
       "      <td>No</td>\n",
       "      <td>No</td>\n",
       "      <td>No</td>\n",
       "      <td>No</td>\n",
       "      <td>3</td>\n",
       "      <td>4.2</td>\n",
       "      <td>Green</td>\n",
       "      <td>Very Good</td>\n",
       "      <td>177</td>\n",
       "      <td>India</td>\n",
       "    </tr>\n",
       "    <tr>\n",
       "      <th>...</th>\n",
       "      <td>...</td>\n",
       "      <td>...</td>\n",
       "      <td>...</td>\n",
       "      <td>...</td>\n",
       "      <td>...</td>\n",
       "      <td>...</td>\n",
       "      <td>...</td>\n",
       "      <td>...</td>\n",
       "      <td>...</td>\n",
       "      <td>...</td>\n",
       "      <td>...</td>\n",
       "      <td>...</td>\n",
       "      <td>...</td>\n",
       "      <td>...</td>\n",
       "      <td>...</td>\n",
       "      <td>...</td>\n",
       "      <td>...</td>\n",
       "    </tr>\n",
       "    <tr>\n",
       "      <th>9271</th>\n",
       "      <td>D Cabana</td>\n",
       "      <td>1</td>\n",
       "      <td>Vizag</td>\n",
       "      <td>Sagar Nagar</td>\n",
       "      <td>Continental, Seafood, Chinese, North Indian, B...</td>\n",
       "      <td>600</td>\n",
       "      <td>Indian Rupees(Rs.)</td>\n",
       "      <td>No</td>\n",
       "      <td>No</td>\n",
       "      <td>No</td>\n",
       "      <td>No</td>\n",
       "      <td>2</td>\n",
       "      <td>3.6</td>\n",
       "      <td>Yellow</td>\n",
       "      <td>Good</td>\n",
       "      <td>193</td>\n",
       "      <td>India</td>\n",
       "    </tr>\n",
       "    <tr>\n",
       "      <th>9272</th>\n",
       "      <td>Kaloreez</td>\n",
       "      <td>1</td>\n",
       "      <td>Vizag</td>\n",
       "      <td>Siripuram</td>\n",
       "      <td>Cafe, North Indian, Chinese</td>\n",
       "      <td>400</td>\n",
       "      <td>Indian Rupees(Rs.)</td>\n",
       "      <td>No</td>\n",
       "      <td>No</td>\n",
       "      <td>No</td>\n",
       "      <td>No</td>\n",
       "      <td>2</td>\n",
       "      <td>3.7</td>\n",
       "      <td>Yellow</td>\n",
       "      <td>Good</td>\n",
       "      <td>85</td>\n",
       "      <td>India</td>\n",
       "    </tr>\n",
       "    <tr>\n",
       "      <th>9273</th>\n",
       "      <td>Plot 17</td>\n",
       "      <td>1</td>\n",
       "      <td>Vizag</td>\n",
       "      <td>Siripuram</td>\n",
       "      <td>Burger, Pizza, Biryani</td>\n",
       "      <td>600</td>\n",
       "      <td>Indian Rupees(Rs.)</td>\n",
       "      <td>No</td>\n",
       "      <td>No</td>\n",
       "      <td>No</td>\n",
       "      <td>No</td>\n",
       "      <td>2</td>\n",
       "      <td>4.3</td>\n",
       "      <td>Green</td>\n",
       "      <td>Very Good</td>\n",
       "      <td>172</td>\n",
       "      <td>India</td>\n",
       "    </tr>\n",
       "    <tr>\n",
       "      <th>9274</th>\n",
       "      <td>Vista - The Park</td>\n",
       "      <td>1</td>\n",
       "      <td>Vizag</td>\n",
       "      <td>The Park, Lawsons Bay</td>\n",
       "      <td>American, North Indian, Thai, Continental</td>\n",
       "      <td>1500</td>\n",
       "      <td>Indian Rupees(Rs.)</td>\n",
       "      <td>No</td>\n",
       "      <td>No</td>\n",
       "      <td>No</td>\n",
       "      <td>No</td>\n",
       "      <td>4</td>\n",
       "      <td>3.8</td>\n",
       "      <td>Yellow</td>\n",
       "      <td>Good</td>\n",
       "      <td>74</td>\n",
       "      <td>India</td>\n",
       "    </tr>\n",
       "    <tr>\n",
       "      <th>9275</th>\n",
       "      <td>Flying Spaghetti Monster</td>\n",
       "      <td>1</td>\n",
       "      <td>Vizag</td>\n",
       "      <td>Waltair Uplands</td>\n",
       "      <td>Italian</td>\n",
       "      <td>1400</td>\n",
       "      <td>Indian Rupees(Rs.)</td>\n",
       "      <td>No</td>\n",
       "      <td>No</td>\n",
       "      <td>No</td>\n",
       "      <td>No</td>\n",
       "      <td>3</td>\n",
       "      <td>4.4</td>\n",
       "      <td>Green</td>\n",
       "      <td>Very Good</td>\n",
       "      <td>316</td>\n",
       "      <td>India</td>\n",
       "    </tr>\n",
       "  </tbody>\n",
       "</table>\n",
       "<p>8652 rows × 17 columns</p>\n",
       "</div>"
      ],
      "text/plain": [
       "                            Restaurant Name  Country Code   City  \\\n",
       "624                              Jahanpanah             1   Agra   \n",
       "625                     Rangrezz Restaurant             1   Agra   \n",
       "626                 Time2Eat - Mama Chicken             1   Agra   \n",
       "627   Chokho Jeeman Marwari Jain Bhojanalya             1   Agra   \n",
       "628                          Pinch Of Spice             1   Agra   \n",
       "...                                     ...           ...    ...   \n",
       "9271                               D Cabana             1  Vizag   \n",
       "9272                               Kaloreez             1  Vizag   \n",
       "9273                                Plot 17             1  Vizag   \n",
       "9274                       Vista - The Park             1  Vizag   \n",
       "9275               Flying Spaghetti Monster             1  Vizag   \n",
       "\n",
       "                   Locality  \\\n",
       "624              Agra Cantt   \n",
       "625              Agra Cantt   \n",
       "626              Agra Cantt   \n",
       "627             Civil Lines   \n",
       "628             Civil Lines   \n",
       "...                     ...   \n",
       "9271            Sagar Nagar   \n",
       "9272              Siripuram   \n",
       "9273              Siripuram   \n",
       "9274  The Park, Lawsons Bay   \n",
       "9275        Waltair Uplands   \n",
       "\n",
       "                                               Cuisines  Average_Cost  \\\n",
       "624                               North Indian, Mughlai           850   \n",
       "625                               North Indian, Mughlai           700   \n",
       "626                                        North Indian           500   \n",
       "627                                          Rajasthani           400   \n",
       "628                      North Indian, Chinese, Mughlai          1000   \n",
       "...                                                 ...           ...   \n",
       "9271  Continental, Seafood, Chinese, North Indian, B...           600   \n",
       "9272                        Cafe, North Indian, Chinese           400   \n",
       "9273                             Burger, Pizza, Biryani           600   \n",
       "9274          American, North Indian, Thai, Continental          1500   \n",
       "9275                                            Italian          1400   \n",
       "\n",
       "                Currency Accept_Table_Booking Online_Delevery  \\\n",
       "624   Indian Rupees(Rs.)                   No              No   \n",
       "625   Indian Rupees(Rs.)                   No              No   \n",
       "626   Indian Rupees(Rs.)                   No              No   \n",
       "627   Indian Rupees(Rs.)                   No              No   \n",
       "628   Indian Rupees(Rs.)                   No              No   \n",
       "...                  ...                  ...             ...   \n",
       "9271  Indian Rupees(Rs.)                   No              No   \n",
       "9272  Indian Rupees(Rs.)                   No              No   \n",
       "9273  Indian Rupees(Rs.)                   No              No   \n",
       "9274  Indian Rupees(Rs.)                   No              No   \n",
       "9275  Indian Rupees(Rs.)                   No              No   \n",
       "\n",
       "     Is delivering now Switch to order menu  Price range  Aggregate_Rating  \\\n",
       "624                 No                   No            3               3.9   \n",
       "625                 No                   No            2               3.5   \n",
       "626                 No                   No            2               3.6   \n",
       "627                 No                   No            2               4.0   \n",
       "628                 No                   No            3               4.2   \n",
       "...                ...                  ...          ...               ...   \n",
       "9271                No                   No            2               3.6   \n",
       "9272                No                   No            2               3.7   \n",
       "9273                No                   No            2               4.3   \n",
       "9274                No                   No            4               3.8   \n",
       "9275                No                   No            3               4.4   \n",
       "\n",
       "     Rating_Color     Rating  Votes Country  \n",
       "624        Yellow       Good    140   India  \n",
       "625        Yellow       Good     71   India  \n",
       "626        Yellow       Good     94   India  \n",
       "627         Green  Very Good     87   India  \n",
       "628         Green  Very Good    177   India  \n",
       "...           ...        ...    ...     ...  \n",
       "9271       Yellow       Good    193   India  \n",
       "9272       Yellow       Good     85   India  \n",
       "9273        Green  Very Good    172   India  \n",
       "9274       Yellow       Good     74   India  \n",
       "9275        Green  Very Good    316   India  \n",
       "\n",
       "[8652 rows x 17 columns]"
      ]
     },
     "execution_count": 48,
     "metadata": {},
     "output_type": "execute_result"
    }
   ],
   "source": [
    "Indian_Cities = join_df[join_df['Country']=='India']\n",
    "Indian_Cities"
   ]
  },
  {
   "cell_type": "markdown",
   "id": "1f092cd9-a146-4998-b7fc-25789a040bd3",
   "metadata": {},
   "source": [
    "## Top 3 City in India"
   ]
  },
  {
   "cell_type": "code",
   "execution_count": 49,
   "id": "1aebd157-ca40-47e0-86ec-f37c9254cfc8",
   "metadata": {},
   "outputs": [
    {
     "data": {
      "text/plain": [
       "City\n",
       "New Delhi       5473\n",
       "Gurgaon         1118\n",
       "Noida           1080\n",
       "Faridabad        251\n",
       "Ghaziabad         25\n",
       "Ahmedabad         21\n",
       "Guwahati          21\n",
       "Lucknow           21\n",
       "Bhubaneshwar      21\n",
       "Amritsar          21\n",
       "Pune              20\n",
       "Puducherry        20\n",
       "Patna             20\n",
       "Ludhiana          20\n",
       "Ranchi            20\n",
       "Surat             20\n",
       "Vadodara          20\n",
       "Nashik            20\n",
       "Nagpur            20\n",
       "Mysore            20\n",
       "Mumbai            20\n",
       "Varanasi          20\n",
       "Mangalore         20\n",
       "Agra              20\n",
       "Kochi             20\n",
       "Kolkata           20\n",
       "Dehradun          20\n",
       "Allahabad         20\n",
       "Aurangabad        20\n",
       "Bangalore         20\n",
       "Bhopal            20\n",
       "Chennai           20\n",
       "Coimbatore        20\n",
       "Goa               20\n",
       "Indore            20\n",
       "Jaipur            20\n",
       "Kanpur            20\n",
       "Vizag             20\n",
       "Chandigarh        18\n",
       "Hyderabad         18\n",
       "Secunderabad       2\n",
       "Panchkula          1\n",
       "Mohali             1\n",
       "Name: count, dtype: int64"
      ]
     },
     "execution_count": 49,
     "metadata": {},
     "output_type": "execute_result"
    }
   ],
   "source": [
    "City_count = Indian_Cities['City'].value_counts()\n",
    "City_count"
   ]
  },
  {
   "cell_type": "markdown",
   "id": "5ddb2577-ea1f-4485-b2d0-551777b6c0df",
   "metadata": {},
   "source": [
    "## Top Citys in India"
   ]
  },
  {
   "cell_type": "code",
   "execution_count": 50,
   "id": "e0085cad-ef5d-41cc-8f19-f3c98773f100",
   "metadata": {},
   "outputs": [
    {
     "data": {
      "text/plain": [
       "City\n",
       "New Delhi    5473\n",
       "Gurgaon      1118\n",
       "Noida        1080\n",
       "Faridabad     251\n",
       "Ghaziabad      25\n",
       "Name: count, dtype: int64"
      ]
     },
     "execution_count": 50,
     "metadata": {},
     "output_type": "execute_result"
    }
   ],
   "source": [
    "City_count[:5]"
   ]
  },
  {
   "cell_type": "code",
   "execution_count": 51,
   "id": "7f417339-3570-48e5-b084-eaa568436b03",
   "metadata": {},
   "outputs": [
    {
     "data": {
      "image/png": "[encoded data removed]",
      "text/plain": [
       "<Figure size 640x480 with 1 Axes>"
      ]
     },
     "metadata": {},
     "output_type": "display_data"
    }
   ],
   "source": [
    "plt.pie(City_count.values[:3],\n",
    "       labels = City_count.index[:3],\n",
    "       )\n",
    "plt.show()"
   ]
  },
  {
   "cell_type": "code",
   "execution_count": 52,
   "id": "a862f4b6-9745-4b31-b061-110d18d373f2",
   "metadata": {},
   "outputs": [
    {
     "data": {
      "image/png": "[encoded data removed]",
      "text/plain": [
       "<Figure size 640x480 with 1 Axes>"
      ]
     },
     "metadata": {},
     "output_type": "display_data"
    }
   ],
   "source": [
    "plt.title('Rating_Schema of Zamoto')\n",
    "sns.countplot(join_df['Rating_Color']\n",
    "             )\n",
    "plt.show()\n"
   ]
  },
  {
   "cell_type": "code",
   "execution_count": 53,
   "id": "176cede2-bc9a-41ee-8c63-a0079d361184",
   "metadata": {},
   "outputs": [
    {
     "data": {
      "image/png": "[encoded data removed]",
      "text/plain": [
       "<Figure size 640x480 with 1 Axes>"
      ]
     },
     "metadata": {},
     "output_type": "display_data"
    }
   ],
   "source": [
    "plt.title('Rating_Color of Zamoto')\n",
    "sns.countplot(join_df['Accept_Table_Booking']\n",
    "            )\n",
    "plt.show()"
   ]
  },
  {
   "cell_type": "markdown",
   "id": "03e992ab-9980-4831-b6a4-c75bb3ee08a8",
   "metadata": {},
   "source": [
    "## What is the average cost for two as per the countery"
   ]
  },
  {
   "cell_type": "code",
   "execution_count": 54,
   "id": "35d0413f-565c-4aaa-bb2e-4d33d43061e1",
   "metadata": {},
   "outputs": [
    {
     "data": {
      "text/plain": [
       "Country\n",
       "Australia             24.08\n",
       "United States         26.15\n",
       "Canada                36.25\n",
       "United Kingdom        47.81\n",
       "New Zealand           69.75\n",
       "Turkey                84.85\n",
       "Brazil               134.67\n",
       "Singapore            155.75\n",
       "UAE                  166.42\n",
       "Qatar                223.75\n",
       "South Africa         419.73\n",
       "India                623.37\n",
       "Phillipines         1606.82\n",
       "Sri Lanka           2375.00\n",
       "Indonesia         281190.48\n",
       "Name: Average_Cost, dtype: float64"
      ]
     },
     "execution_count": 54,
     "metadata": {},
     "output_type": "execute_result"
    }
   ],
   "source": [
    "join_df.groupby('Country')['Average_Cost'].mean().sort_values(ascending = True).round(2)"
   ]
  },
  {
   "cell_type": "markdown",
   "id": "f7b630d4-1f3d-4009-b879-1791043f643a",
   "metadata": {},
   "source": [
    "## Minimum Average Cost in India."
   ]
  },
  {
   "cell_type": "code",
   "execution_count": null,
   "id": "dd1140c8-f15b-469f-9af4-b447435dfd14",
   "metadata": {},
   "outputs": [],
   "source": [
    "Indian_Cities.groupby('City')['Average_Cost'].mean().sort_values(ascending = False)[-3:]"
   ]
  },
  {
   "cell_type": "markdown",
   "id": "c20cb52f-4f55-49b3-93d8-15aa8e78cb3a",
   "metadata": {},
   "source": [
    "## List of Average Cost in India"
   ]
  },
  {
   "cell_type": "code",
   "execution_count": 56,
   "id": "70736139-c6e2-42ea-bfe6-95f1db2bee4f",
   "metadata": {},
   "outputs": [
    {
     "data": {
      "text/plain": [
       "City\n",
       "Panchkula       2000.00\n",
       "Hyderabad       1361.11\n",
       "Pune            1337.50\n",
       "Jaipur          1310.00\n",
       "Kolkata         1272.50\n",
       "Bangalore       1232.50\n",
       "Goa             1175.00\n",
       "Ludhiana        1160.00\n",
       "Chennai         1085.00\n",
       "Mumbai          1072.50\n",
       "Chandigarh      1072.22\n",
       "Agra            1065.00\n",
       "Indore           960.00\n",
       "Kanpur           915.00\n",
       "Lucknow          859.52\n",
       "Ahmedabad        857.14\n",
       "Puducherry       842.50\n",
       "Secunderabad     825.00\n",
       "Guwahati         821.43\n",
       "Vadodara         820.00\n",
       "Mysore           814.50\n",
       "Surat            812.50\n",
       "Patna            797.50\n",
       "Mangalore        782.50\n",
       "Coimbatore       782.50\n",
       "Vizag            780.00\n",
       "Ranchi           735.00\n",
       "Kochi            730.00\n",
       "Dehradun         727.50\n",
       "Nagpur           715.00\n",
       "Gurgaon          714.02\n",
       "Bhubaneshwar     678.57\n",
       "Nashik           662.50\n",
       "Aurangabad       622.50\n",
       "Bhopal           620.00\n",
       "Ghaziabad        602.00\n",
       "New Delhi        596.09\n",
       "Mohali           550.00\n",
       "Noida            539.49\n",
       "Allahabad        517.50\n",
       "Varanasi         505.00\n",
       "Amritsar         480.95\n",
       "Faridabad        447.61\n",
       "Name: Average_Cost, dtype: float64"
      ]
     },
     "execution_count": 56,
     "metadata": {},
     "output_type": "execute_result"
    }
   ],
   "source": [
    "Indian_Cities.groupby('City')['Average_Cost'].mean().sort_values(ascending = False).round(2)"
   ]
  },
  {
   "cell_type": "markdown",
   "id": "b7bfb384-3c38-4f7b-92b4-b4c2ebab3f53",
   "metadata": {},
   "source": [
    "# Thankyou "
   ]
  }
 ],
 "metadata": {
  "kernelspec": {
   "display_name": "Python 3 (ipykernel)",
   "language": "python",
   "name": "python3"
  },
  "language_info": {
   "codemirror_mode": {
    "name": "ipython",
    "version": 3
   },
   "file_extension": ".py",
   "mimetype": "text/x-python",
   "name": "python",
   "nbconvert_exporter": "python",
   "pygments_lexer": "ipython3",
   "version": "3.11.4"
  }
 },
 "nbformat": 4,
 "nbformat_minor": 5
}
